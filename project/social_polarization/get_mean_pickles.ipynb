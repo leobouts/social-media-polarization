{
 "cells": [
  {
   "cell_type": "code",
   "execution_count": 1,
   "id": "sufficient-variation",
   "metadata": {},
   "outputs": [
    {
     "name": "stderr",
     "output_type": "stream",
     "text": [
      "Computing transition probabilities:  15%|█▌        | 430/2832 [00:03<00:19, 123.13it/s]\n"
     ]
    },
    {
     "ename": "KeyboardInterrupt",
     "evalue": "",
     "output_type": "error",
     "traceback": [
      "\u001b[0;31m---------------------------------------------------------------------------\u001b[0m",
      "\u001b[0;31mKeyboardInterrupt\u001b[0m                         Traceback (most recent call last)",
      "\u001b[0;32m<ipython-input-1-c5c628dbce2e>\u001b[0m in \u001b[0;36m<module>\u001b[0;34m\u001b[0m\n\u001b[1;32m     13\u001b[0m \u001b[0;32mif\u001b[0m \u001b[0mcomment\u001b[0m\u001b[0;34m==\u001b[0m\u001b[0;34m'normal'\u001b[0m\u001b[0;34m:\u001b[0m\u001b[0;34m\u001b[0m\u001b[0;34m\u001b[0m\u001b[0m\n\u001b[1;32m     14\u001b[0m     \u001b[0msave\u001b[0m\u001b[0;34m=\u001b[0m\u001b[0;34m'before'\u001b[0m\u001b[0;34m\u001b[0m\u001b[0;34m\u001b[0m\u001b[0m\n\u001b[0;32m---> 15\u001b[0;31m     \u001b[0mresults\u001b[0m\u001b[0;34m,\u001b[0m \u001b[0mprobabilities\u001b[0m \u001b[0;34m=\u001b[0m \u001b[0mgraph_embeddings\u001b[0m\u001b[0;34m(\u001b[0m\u001b[0mds\u001b[0m\u001b[0;34m,\u001b[0m \u001b[0;36m0\u001b[0m\u001b[0;34m)\u001b[0m\u001b[0;34m\u001b[0m\u001b[0;34m\u001b[0m\u001b[0m\n\u001b[0m\u001b[1;32m     16\u001b[0m     \u001b[0mprobabilities_dict\u001b[0m \u001b[0;34m=\u001b[0m \u001b[0;34m{\u001b[0m\u001b[0mresults\u001b[0m\u001b[0;34m[\u001b[0m\u001b[0mi\u001b[0m\u001b[0;34m]\u001b[0m\u001b[0;34m:\u001b[0m \u001b[0mprobabilities\u001b[0m\u001b[0;34m[\u001b[0m\u001b[0mi\u001b[0m\u001b[0;34m]\u001b[0m \u001b[0;32mfor\u001b[0m \u001b[0mi\u001b[0m \u001b[0;32min\u001b[0m \u001b[0mrange\u001b[0m\u001b[0;34m(\u001b[0m\u001b[0mlen\u001b[0m\u001b[0;34m(\u001b[0m\u001b[0mresults\u001b[0m\u001b[0;34m)\u001b[0m\u001b[0;34m)\u001b[0m\u001b[0;34m}\u001b[0m\u001b[0;34m\u001b[0m\u001b[0;34m\u001b[0m\u001b[0m\n\u001b[1;32m     17\u001b[0m \u001b[0;32melse\u001b[0m\u001b[0;34m:\u001b[0m\u001b[0;34m\u001b[0m\u001b[0;34m\u001b[0m\u001b[0m\n",
      "\u001b[0;32m~/Desktop/February 21/thesis/project/social_polarization/__graph_embeddings__.py\u001b[0m in \u001b[0;36mgraph_embeddings\u001b[0;34m(name, verbose)\u001b[0m\n\u001b[1;32m     54\u001b[0m \u001b[0;34m\u001b[0m\u001b[0m\n\u001b[1;32m     55\u001b[0m     \u001b[0;31m# Generate walks with default parameters\u001b[0m\u001b[0;34m\u001b[0m\u001b[0;34m\u001b[0m\u001b[0;34m\u001b[0m\u001b[0m\n\u001b[0;32m---> 56\u001b[0;31m     \u001b[0mnode2vec\u001b[0m \u001b[0;34m=\u001b[0m \u001b[0mNode2Vec\u001b[0m\u001b[0;34m(\u001b[0m\u001b[0mgraph\u001b[0m\u001b[0;34m,\u001b[0m \u001b[0mquiet\u001b[0m\u001b[0;34m=\u001b[0m\u001b[0;32mFalse\u001b[0m\u001b[0;34m)\u001b[0m\u001b[0;34m\u001b[0m\u001b[0;34m\u001b[0m\u001b[0m\n\u001b[0m\u001b[1;32m     57\u001b[0m \u001b[0;34m\u001b[0m\u001b[0m\n\u001b[1;32m     58\u001b[0m     \u001b[0;31m# get the embeddings model using gensim's Word2V\u001b[0m\u001b[0;34m\u001b[0m\u001b[0;34m\u001b[0m\u001b[0;34m\u001b[0m\u001b[0m\n",
      "\u001b[0;32m/Library/Frameworks/Python.framework/Versions/3.8/lib/python3.8/site-packages/node2vec/node2vec.py\u001b[0m in \u001b[0;36m__init__\u001b[0;34m(self, graph, dimensions, walk_length, num_walks, p, q, weight_key, workers, sampling_strategy, quiet, temp_folder)\u001b[0m\n\u001b[1;32m     64\u001b[0m             \u001b[0mself\u001b[0m\u001b[0;34m.\u001b[0m\u001b[0mrequire\u001b[0m \u001b[0;34m=\u001b[0m \u001b[0;34m\"sharedmem\"\u001b[0m\u001b[0;34m\u001b[0m\u001b[0;34m\u001b[0m\u001b[0m\n\u001b[1;32m     65\u001b[0m \u001b[0;34m\u001b[0m\u001b[0m\n\u001b[0;32m---> 66\u001b[0;31m         \u001b[0mself\u001b[0m\u001b[0;34m.\u001b[0m\u001b[0m_precompute_probabilities\u001b[0m\u001b[0;34m(\u001b[0m\u001b[0;34m)\u001b[0m\u001b[0;34m\u001b[0m\u001b[0;34m\u001b[0m\u001b[0m\n\u001b[0m\u001b[1;32m     67\u001b[0m         \u001b[0mself\u001b[0m\u001b[0;34m.\u001b[0m\u001b[0mwalks\u001b[0m \u001b[0;34m=\u001b[0m \u001b[0mself\u001b[0m\u001b[0;34m.\u001b[0m\u001b[0m_generate_walks\u001b[0m\u001b[0;34m(\u001b[0m\u001b[0;34m)\u001b[0m\u001b[0;34m\u001b[0m\u001b[0;34m\u001b[0m\u001b[0m\n\u001b[1;32m     68\u001b[0m \u001b[0;34m\u001b[0m\u001b[0m\n",
      "\u001b[0;32m/Library/Frameworks/Python.framework/Versions/3.8/lib/python3.8/site-packages/node2vec/node2vec.py\u001b[0m in \u001b[0;36m_precompute_probabilities\u001b[0;34m(self)\u001b[0m\n\u001b[1;32m    113\u001b[0m                 \u001b[0;31m# Normalize\u001b[0m\u001b[0;34m\u001b[0m\u001b[0;34m\u001b[0m\u001b[0;34m\u001b[0m\u001b[0m\n\u001b[1;32m    114\u001b[0m                 \u001b[0munnormalized_weights\u001b[0m \u001b[0;34m=\u001b[0m \u001b[0mnp\u001b[0m\u001b[0;34m.\u001b[0m\u001b[0marray\u001b[0m\u001b[0;34m(\u001b[0m\u001b[0munnormalized_weights\u001b[0m\u001b[0;34m)\u001b[0m\u001b[0;34m\u001b[0m\u001b[0;34m\u001b[0m\u001b[0m\n\u001b[0;32m--> 115\u001b[0;31m                 d_graph[current_node][self.PROBABILITIES_KEY][\n\u001b[0m\u001b[1;32m    116\u001b[0m                     source] = unnormalized_weights / unnormalized_weights.sum()\n\u001b[1;32m    117\u001b[0m \u001b[0;34m\u001b[0m\u001b[0m\n",
      "\u001b[0;31mKeyboardInterrupt\u001b[0m: "
     ]
    }
   ],
   "source": [
    "from __graph_embeddings__ import graph_embeddings\n",
    "import pickle\n",
    "\n",
    "ds = 'ClintonTrump'\n",
    "#withour embeddings ->normal\n",
    "#with embeddings ->probs\n",
    "comment = 'normal'\n",
    "\n",
    "\n",
    "with open(f\"../pickles/{ds}/{comment}/{ds}_info\", 'rb') as fp:\n",
    "    info = pickle.load(fp)\n",
    "\n",
    "if comment=='normal':\n",
    "    save='before'\n",
    "    results, probabilities = graph_embeddings(ds, 0)\n",
    "    probabilities_dict = {results[i]: probabilities[i] for i in range(len(results))}\n",
    "else:\n",
    "    save='after'\n",
    "    with open(f\"../pickles/{ds}/{comment}/{ds}_probabilities_dictionary\", 'rb') as fp:\n",
    "        probabilities_dict = pickle.load(fp)\n",
    "\n"
   ]
  },
  {
   "cell_type": "code",
   "execution_count": null,
   "id": "received-leather",
   "metadata": {},
   "outputs": [],
   "source": [
    "if ds=='karate' or ds=='books':\n",
    "    \n",
    "    Greedy_5 = info[f'Greedy_{ds}_5']['result_dictionary']\n",
    "    Greedy_10 = info[f'Greedy_{ds}_10']['result_dictionary']\n",
    "    Greedy_15 = info[f'Greedy_{ds}_15']['result_dictionary']\n",
    "    Greedy_20 = info[f'Greedy_{ds}_20']['result_dictionary']\n",
    "\n",
    "    greedy_edges = [Greedy_5, Greedy_10, Greedy_15, Greedy_20]\n",
    "\n",
    "    GBatch_5 = info[f'GBatch_{ds}_5']['result_dictionary']\n",
    "    GBatch_10 = info[f'GBatch_{ds}_10']['result_dictionary']\n",
    "    GBatch_15 = info[f'GBatch_{ds}_15']['result_dictionary']\n",
    "    GBatch_20 = info[f'GBatch_{ds}_20']['result_dictionary']\n",
    "\n",
    "    gbatch_edges = [GBatch_5, GBatch_10, GBatch_15, GBatch_20]\n",
    "\n",
    "FTGreedy_5 = info[f'FTGreedy_{ds}_5']['result_dictionary']\n",
    "FTGreedy_10 = info[f'FTGreedy_{ds}_10']['result_dictionary']\n",
    "FTGreedy_15 = info[f'FTGreedy_{ds}_15']['result_dictionary']\n",
    "FTGreedy_20 = info[f'FTGreedy_{ds}_20']['result_dictionary']\n",
    "\n",
    "FTGreedy_edges = [FTGreedy_5, FTGreedy_10, FTGreedy_15, FTGreedy_20]\n",
    "\n",
    "FTGreedyBatch_5 = info[f'FTGreedyBatch_{ds}_5']['result_dictionary']\n",
    "FTGreedyBatch_10 = info[f'FTGreedyBatch_{ds}_10']['result_dictionary']\n",
    "FTGreedyBatch_15 = info[f'FTGreedyBatch_{ds}_15']['result_dictionary']\n",
    "FTGreedyBatch_20 = info[f'FTGreedyBatch_{ds}_20']['result_dictionary']\n",
    "\n",
    "FTGreedyBatch_edges = [FTGreedyBatch_5, FTGreedyBatch_10, FTGreedyBatch_15, FTGreedyBatch_20]\n",
    "\n",
    "expressed_5 = info[f'Expressed Distance_{ds}_5']['result_dictionary']\n",
    "expressed_10 = info[f'Expressed Distance_{ds}_10']['result_dictionary']\n",
    "expressed_15 = info[f'Expressed Distance_{ds}_15']['result_dictionary']\n",
    "expressed_20 = info[f'Expressed Distance_{ds}_20']['result_dictionary']\n",
    "\n",
    "expressed_edges = [expressed_5, expressed_10, expressed_15, expressed_20]\n"
   ]
  },
  {
   "cell_type": "code",
   "execution_count": null,
   "id": "mechanical-approach",
   "metadata": {
    "scrolled": true
   },
   "outputs": [],
   "source": [
    "from statistics import median\n",
    "\n",
    "list_of_all = []\n",
    "\n",
    "if ds=='karate' or ds=='books':\n",
    "    algos = [greedy_edges, gbatch_edges, FTGreedy_edges, FTGreedyBatch_edges, expressed_edges]\n",
    "else:\n",
    "    algos = [FTGreedy_edges, FTGreedyBatch_edges, expressed_edges]\n",
    "\n",
    "for algorithm in algos:\n",
    "    list_of_means = []\n",
    "    for edges in algorithm:\n",
    "        values = []\n",
    "        for edge in edges:\n",
    "            try:\n",
    "                values.append(probabilities_dict[(edge[0],edge[1])])\n",
    "            except:\n",
    "                values.append(probabilities_dict[(edge[1],edge[0])])\n",
    "    \n",
    "        list_of_means.append(median(values))\n",
    "    list_of_all.append(list_of_means)\n",
    "    \n",
    "print(list_of_all)"
   ]
  },
  {
   "cell_type": "code",
   "execution_count": null,
   "id": "lovely-immune",
   "metadata": {},
   "outputs": [],
   "source": [
    "with open(f\"../pickles/{ds}/mean_probability_{save}\", 'wb') as handle:\n",
    "    pickle.dump(list_of_all, handle, protocol=pickle.HIGHEST_PROTOCOL)"
   ]
  },
  {
   "cell_type": "code",
   "execution_count": null,
   "id": "intellectual-czech",
   "metadata": {},
   "outputs": [],
   "source": []
  }
 ],
 "metadata": {
  "kernelspec": {
   "display_name": "Python 3",
   "language": "python",
   "name": "python3"
  },
  "language_info": {
   "codemirror_mode": {
    "name": "ipython",
    "version": 3
   },
   "file_extension": ".py",
   "mimetype": "text/x-python",
   "name": "python",
   "nbconvert_exporter": "python",
   "pygments_lexer": "ipython3",
   "version": "3.8.5"
  }
 },
 "nbformat": 4,
 "nbformat_minor": 5
}
