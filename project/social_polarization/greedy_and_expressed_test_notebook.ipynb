{
 "cells": [
  {
   "cell_type": "code",
   "execution_count": 1,
   "id": "expressed-genesis",
   "metadata": {},
   "outputs": [],
   "source": [
    "from scipy.sparse import identity\n",
    "import networkx as nx\n",
    "import numpy as np\n",
    "import pandas as pd\n",
    "\n",
    "def get_polarization(g):\n",
    "\n",
    "    \"\"\"\"\n",
    "    Creates the L+I matrix where L is the laplacian matrix of\n",
    "    the graph. Solves the (L+I)^-1 * S system and computes t-\n",
    "    he polarization index value from the second norm of this\n",
    "    array squared up and normalized by the network size.\n",
    "\n",
    "    ----------------------------------------------------------\n",
    "    :param g: networkx graph with value attributes\n",
    "    :return: Value of the polarization index\n",
    "    \"\"\"\n",
    "    no_of_nodes = len(g.nodes)\n",
    "    values = list(nx.get_node_attributes(g, 'value').values())\n",
    "\n",
    "    Laplace = nx.laplacian_matrix(g)\n",
    "    Identity = identity(no_of_nodes)\n",
    "    L_plus_I = Laplace + Identity\n",
    "\n",
    "    # sum of columns of L+I should be 1 for each column\n",
    "    #print(pd.DataFrame(L_plus_I.todense()).sum(axis=1, skipna=True))\n",
    "\n",
    "    Inverse = np.linalg.inv(L_plus_I.todense())\n",
    "\n",
    "    # sum of columns of (L+I)^-1 should be 1 for each column\n",
    "    #print(pd.DataFrame(Inverse.A).sum(axis=1, skipna=True))\n",
    "\n",
    "    # computing (L+I)^-1 * S\n",
    "    solutions = Inverse.dot(values)\n",
    "\n",
    "    #print(pd.DataFrame(Inverse.A))\n",
    "    #print(values)\n",
    "\n",
    "    #print(sum(np.squeeze(np.asarray(solutions)).tolist()))\n",
    "\n",
    "    # squaring and summing the opinion vector\n",
    "    squared = np.square(solutions)\n",
    "\n",
    "    summed = np.sum(squared)\n",
    "    # result is normalized according to network size\n",
    "    return summed / no_of_nodes, np.squeeze(np.asarray(solutions)).tolist()"
   ]
  },
  {
   "cell_type": "code",
   "execution_count": 2,
   "id": "confidential-qatar",
   "metadata": {},
   "outputs": [],
   "source": [
    "graph = nx.read_gml('../datasets/books.gml', label='id')\n",
    "\n",
    "graph = nx.Graph(graph, name='books')"
   ]
  },
  {
   "cell_type": "markdown",
   "id": "becoming-melbourne",
   "metadata": {},
   "source": [
    "# GREEDY"
   ]
  },
  {
   "cell_type": "code",
   "execution_count": 3,
   "id": "designed-contest",
   "metadata": {},
   "outputs": [],
   "source": [
    "g_copy = graph.copy()\n",
    "k_items = []\n",
    "k = [5,10,15,20]\n",
    "\n",
    "for i in range(max(k)):\n",
    "    \n",
    "    \n",
    "    original_polarization, converged_opinions = get_polarization(g_copy)\n",
    "    \n",
    "    index_pos = []\n",
    "    index_neg = []\n",
    "    edges_to_add_list = []\n",
    "    addition_info = {}\n",
    "\n",
    "    # separate them according to opinion (-,+)\n",
    "    # dont use list.index(), some nodes have the exact z value\n",
    "    # and will return the same index in the list providing us\n",
    "    # with wrong edges to add bellow\n",
    "\n",
    "    for i in range(len(converged_opinions)):\n",
    "        if converged_opinions[i] > 0:\n",
    "            index_pos.append(i)\n",
    "        elif converged_opinions[i] < 0:\n",
    "            index_neg.append(i)\n",
    "\n",
    "\n",
    "    for node_pos in index_pos:\n",
    "        for node_neg in index_neg:\n",
    "            \n",
    "            edge_to_add = (node_pos, node_neg)\n",
    "\n",
    "            # check how much the polarization was reduced in comparison with the original graph\n",
    "            g_test = g_copy.copy()\n",
    "            g_test.add_edges_from([edge_to_add])\n",
    "            polarization_after_addition, converged_opinions = get_polarization(g_test)\n",
    "\n",
    "\n",
    "            if polarization_after_addition < original_polarization:\n",
    "                value = original_polarization - polarization_after_addition\n",
    "            else:\n",
    "                # polarization increased\n",
    "                value = 999999\n",
    "\n",
    "            addition_info[edge_to_add] = value\n",
    "\n",
    "    sorted_edges = sorted(addition_info.items(), key=lambda x: x[1], reverse=True)\n",
    "    \n",
    "\n",
    "    # consider only edges that do not already exist\n",
    "    for edge in sorted_edges:\n",
    "        if not g_copy.has_edge(*edge[0]):\n",
    "            edges_to_add_list.append(edge[0])\n",
    "\n",
    "    edge_1 = edges_to_add_list[0][0]\n",
    "    edge_2 = edges_to_add_list[0][1]\n",
    "\n",
    "    g_copy.add_edge(edge_1, edge_2)\n",
    "    k_items.append((edge_1, edge_2))\n",
    "    "
   ]
  },
  {
   "cell_type": "code",
   "execution_count": 4,
   "id": "metropolitan-center",
   "metadata": {},
   "outputs": [],
   "source": [
    "polarizations = []\n",
    "\n",
    "for k_edge in k:\n",
    "    \n",
    "    g_test_2 = graph.copy()\n",
    "    g_test_2.add_edges_from(k_items[:k_edge])\n",
    "    pol, converged_opinions = get_polarization(g_test_2)\n",
    "    polarizations.append(pol)\n"
   ]
  },
  {
   "cell_type": "code",
   "execution_count": 5,
   "id": "polar-castle",
   "metadata": {},
   "outputs": [],
   "source": [
    "greedy_pol_all = []\n",
    "\n",
    "for i in range(max(k)):\n",
    "    \n",
    "    g_test_2 = graph.copy()\n",
    "    g_test_2.add_edges_from(k_items[:i+1])\n",
    "    pol, converged_opinions = get_polarization(g_test_2)\n",
    "    greedy_pol_all.append(pol)\n",
    "    "
   ]
  },
  {
   "cell_type": "markdown",
   "id": "cleared-summer",
   "metadata": {},
   "source": [
    "## polarizations for edges 5,10,15"
   ]
  },
  {
   "cell_type": "code",
   "execution_count": 6,
   "id": "polish-hartford",
   "metadata": {
    "scrolled": false
   },
   "outputs": [
    {
     "name": "stdout",
     "output_type": "stream",
     "text": [
      "[0.3203808165510762, 0.24737040884194433, 0.1974822943940203, 0.15947351056774497]\n"
     ]
    }
   ],
   "source": [
    "print(polarizations)"
   ]
  },
  {
   "cell_type": "markdown",
   "id": "designing-savings",
   "metadata": {},
   "source": [
    "# expressed distance"
   ]
  },
  {
   "cell_type": "code",
   "execution_count": 7,
   "id": "alleged-dispute",
   "metadata": {},
   "outputs": [],
   "source": [
    "g_copy_expressed = graph.copy()\n",
    "k_items_expressed = []\n",
    "k = [5,10,15,20]\n",
    "\n",
    "for i in range(max(k)):\n",
    "    \n",
    "    \n",
    "    original_polarization, converged_opinions = get_polarization(g_copy_expressed)\n",
    "    \n",
    "    index_pos = []\n",
    "    index_neg = []\n",
    "    edges_to_add_list = []\n",
    "    addition_info = {}\n",
    "\n",
    "    # separate them according to opinion (-,+)\n",
    "    # dont use list.index(), some nodes have the exact z value\n",
    "    # and will return the same index in the list providing us\n",
    "    # with wrong edges to add bellow\n",
    "\n",
    "    for i in range(len(converged_opinions)):\n",
    "        if converged_opinions[i] > 0:\n",
    "            index_pos.append(i)\n",
    "        elif converged_opinions[i] < 0:\n",
    "            index_neg.append(i)\n",
    "\n",
    "\n",
    "    for node_pos in index_pos:\n",
    "        for node_neg in index_neg:\n",
    "            \n",
    "            edge_to_add = (node_pos, node_neg)\n",
    "                                \n",
    "            value = abs(converged_opinions[node_pos] - converged_opinions[node_neg])\n",
    "            \n",
    "            addition_info[edge_to_add] = value\n",
    "\n",
    "    sorted_edges = sorted(addition_info.items(), key=lambda x: x[1], reverse=True)\n",
    "    \n",
    "\n",
    "    # consider only edges that do not already exist\n",
    "    for edge in sorted_edges:\n",
    "        if not g_copy_expressed.has_edge(*edge[0]):\n",
    "            edges_to_add_list.append(edge[0])\n",
    "\n",
    "    edge_1 = edges_to_add_list[0][0]\n",
    "    edge_2 = edges_to_add_list[0][1]\n",
    "\n",
    "    g_copy_expressed.add_edge(edge_1, edge_2)\n",
    "    k_items_expressed.append((edge_1, edge_2))\n",
    "    "
   ]
  },
  {
   "cell_type": "code",
   "execution_count": 8,
   "id": "failing-protest",
   "metadata": {},
   "outputs": [],
   "source": [
    "polarizations_expressed = []\n",
    "\n",
    "for k_edge in k:\n",
    "    \n",
    "    g_test_2 = graph.copy()\n",
    "    g_test_2.add_edges_from(k_items_expressed[:k_edge])\n",
    "    pol, converged_opinions = get_polarization(g_test_2)\n",
    "    polarizations_expressed.append(pol)"
   ]
  },
  {
   "cell_type": "markdown",
   "id": "conscious-organization",
   "metadata": {},
   "source": [
    "## polarizations for edges 5,10,15"
   ]
  },
  {
   "cell_type": "code",
   "execution_count": 9,
   "id": "measured-installation",
   "metadata": {
    "scrolled": true
   },
   "outputs": [
    {
     "name": "stdout",
     "output_type": "stream",
     "text": [
      "[0.32317278859480814, 0.25017323433937527, 0.19663534922975412, 0.15745178751223105]\n"
     ]
    }
   ],
   "source": [
    "print(polarizations_expressed)"
   ]
  },
  {
   "cell_type": "code",
   "execution_count": 10,
   "id": "political-bosnia",
   "metadata": {},
   "outputs": [],
   "source": [
    "expressed_pol_all = []\n",
    "\n",
    "for i in range(max(k)):\n",
    "    \n",
    "    g_test_2 = graph.copy()\n",
    "    g_test_2.add_edges_from(k_items_expressed[:i+1])\n",
    "    pol, converged_opinions = get_polarization(g_test_2)\n",
    "    expressed_pol_all.append(pol)\n",
    "    "
   ]
  },
  {
   "cell_type": "code",
   "execution_count": 12,
   "id": "medical-meditation",
   "metadata": {},
   "outputs": [
    {
     "data": {
      "image/png": "[encoded data removed]",
      "text/plain": [
       "<Figure size 432x288 with 1 Axes>"
      ]
     },
     "metadata": {
      "needs_background": "light"
     },
     "output_type": "display_data"
    },
    {
     "data": {
      "image/png": "[encoded data removed]",
      "text/plain": [
       "<Figure size 432x288 with 1 Axes>"
      ]
     },
     "metadata": {
      "needs_background": "light"
     },
     "output_type": "display_data"
    }
   ],
   "source": [
    "import matplotlib.pyplot as plt\n",
    "k_all = [i+1 for i in range(20)]\n",
    "plt.plot(k_all,expressed_pol_all,color='red', marker='o')\n",
    "\n",
    "plt.xlabel('edges')\n",
    "plt.ylabel('p(z)')\n",
    "plt.title('expressed')\n",
    "plt.xticks(k_all)\n",
    "plt.yticks(expressed_pol_all)\n",
    "plt.grid(True)\n",
    "plt.show()\n",
    "\n",
    "plt.plot(k_all,greedy_pol_all,color='green', marker='o')\n",
    "\n",
    "plt.xlabel('edges')\n",
    "plt.ylabel('p(z)')\n",
    "plt.title('Greedy')\n",
    "plt.xticks(k_all)\n",
    "plt.yticks(greedy_pol_all)\n",
    "plt.grid(True)\n",
    "plt.show()"
   ]
  },
  {
   "cell_type": "code",
   "execution_count": 14,
   "id": "incomplete-fighter",
   "metadata": {},
   "outputs": [
    {
     "name": "stdout",
     "output_type": "stream",
     "text": [
      "0\n",
      "1\n",
      "2\n",
      "3\n",
      "4\n",
      "5\n",
      "6\n",
      "7\n",
      "8\n",
      "9\n",
      "10\n",
      "11\n",
      "12\n"
     ]
    }
   ],
   "source": [
    "for i in range(len(k_all)):\n",
    "    if greedy_pol_all[i] < expressed_pol_all[i]:\n",
    "        print(i)"
   ]
  },
  {
   "cell_type": "code",
   "execution_count": 17,
   "id": "framed-traffic",
   "metadata": {},
   "outputs": [
    {
     "name": "stdout",
     "output_type": "stream",
     "text": [
      "[(35, 59), (33, 100), (40, 84), (10, 94), (13, 99), (23, 97), (34, 98), (15, 61), (41, 89), (43, 60), (11, 92), (47, 90), (8, 87), (17, 81), (39, 95), (16, 88), (56, 63), (54, 80), (26, 79), (44, 101)]\n",
      "20\n",
      "40\n"
     ]
    }
   ],
   "source": [
    "print(k_items)\n",
    "rlist(set(k_items+k_items_expressed))\n",
    "print(len(res))"
   ]
  },
  {
   "cell_type": "code",
   "execution_count": 18,
   "id": "driving-compression",
   "metadata": {},
   "outputs": [
    {
     "data": {
      "image/png": "[encoded data removed]",
      "text/plain": [
       "<Figure size 432x288 with 1 Axes>"
      ]
     },
     "metadata": {
      "needs_background": "light"
     },
     "output_type": "display_data"
    }
   ],
   "source": [
    "import numpy as np\n",
    "import matplotlib.pyplot as plt\n",
    "\n",
    "# fig, is the whole thing; ax1 is a subplot in the figure, \n",
    "# so we reference it to plot bars and lines there\n",
    "fig, ax1 = plt.subplots()\n",
    "\n",
    "ind = np.arange(3)\n",
    "width = 0.15\n",
    "\n",
    "# per dimension\n",
    "colors = ['#00ff00', '#0000ff', '#ff00ff']\n",
    "markers = ['x','o','v']\n",
    "xticklabels = ['50/50', '60/40', '70/30']\n",
    "\n",
    "# \n",
    "group1 = [12,6,5]\n",
    "group2 = [6,8,12]\n",
    "group3 = [2,4,9]\n",
    "\n",
    "#\n",
    "all_groups = [ group1, group2, group3 ]\n",
    "\n",
    "# plot each group of bars; loop-variable bar_values contains values for bars\n",
    "for i, bar_values in enumerate( all_groups ):\n",
    "\n",
    "  # compute position for each bar\n",
    "  bar_position = width*i\n",
    "  ax1.bar( ind + bar_position, bar_values, width, color=colors[i] )\n",
    "\n",
    "# plot line for each group of bars; loop-variable y_values contains values for lines\n",
    "for i, y_values in enumerate( all_groups ):\n",
    "\n",
    "  # moves the beginning of a line to the middle of the bar\n",
    "  additional_space = (width*i) + (width/2);\n",
    "  # x_values contains list indices plus additional space\n",
    "  x_values = [ x + additional_space for x,_ in enumerate( y_values ) ]\n",
    "\n",
    "  # simply plot the values in y_values\n",
    "  ax1.plot( x_values, y_values, marker=markers[i], color=colors[i] )\n",
    "\n",
    "plt.setp([ax1], xticks=ind + width, xticklabels=xticklabels)\n",
    "\n",
    "plt.tight_layout()\n",
    "plt.show()"
   ]
  },
  {
   "cell_type": "code",
   "execution_count": null,
   "id": "involved-choir",
   "metadata": {},
   "outputs": [],
   "source": []
  }
 ],
 "metadata": {
  "kernelspec": {
   "display_name": "Python 3",
   "language": "python",
   "name": "python3"
  },
  "language_info": {
   "codemirror_mode": {
    "name": "ipython",
    "version": 3
   },
   "file_extension": ".py",
   "mimetype": "text/x-python",
   "name": "python",
   "nbconvert_exporter": "python",
   "pygments_lexer": "ipython3",
   "version": "3.8.5"
  }
 },
 "nbformat": 4,
 "nbformat_minor": 5
}
