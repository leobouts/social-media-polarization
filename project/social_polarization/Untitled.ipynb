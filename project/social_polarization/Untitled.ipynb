{
 "cells": [
  {
   "cell_type": "code",
   "execution_count": 5,
   "id": "right-maple",
   "metadata": {},
   "outputs": [
    {
     "name": "stderr",
     "output_type": "stream",
     "text": [
      "Computing transition probabilities: 100%|██████████| 2832/2832 [00:22<00:00, 123.54it/s]\n",
      "Generating walks (CPU: 1): 100%|██████████| 10/10 [02:50<00:00, 17.07s/it]\n"
     ]
    }
   ],
   "source": [
    "from __graph_embeddings__ import graph_embeddings\n",
    "import pickle\n",
    "\n",
    "ds = 'ClintonTrump'\n",
    "#withour embeddings ->normal\n",
    "#with embeddings ->probs\n",
    "comment = 'normal'\n",
    "\n",
    "\n",
    "with open(f\"../pickles/{ds}/{comment}/{ds}_info\", 'rb') as fp:\n",
    "    info = pickle.load(fp)\n",
    "\n",
    "if comment=='normal':\n",
    "    save='before'\n",
    "    results, probabilities = graph_embeddings(ds, 0)\n",
    "    probabilities_dict = {results[i]: probabilities[i] for i in range(len(results))}\n",
    "else:\n",
    "    save='after'\n",
    "    with open(f\"../pickles/{ds}/{comment}/{ds}_probabilities_dictionary\", 'rb') as fp:\n",
    "        probabilities_dict = pickle.load(fp)\n",
    "\n"
   ]
  },
  {
   "cell_type": "code",
   "execution_count": 6,
   "id": "blond-adelaide",
   "metadata": {},
   "outputs": [],
   "source": [
    "if ds=='karate' or ds=='books':\n",
    "    \n",
    "    Greedy_5 = info[f'Greedy_{ds}_5']['result_dictionary']\n",
    "    Greedy_10 = info[f'Greedy_{ds}_10']['result_dictionary']\n",
    "    Greedy_15 = info[f'Greedy_{ds}_15']['result_dictionary']\n",
    "    Greedy_20 = info[f'Greedy_{ds}_20']['result_dictionary']\n",
    "\n",
    "    greedy_edges = [Greedy_5, Greedy_10, Greedy_15, Greedy_20]\n",
    "\n",
    "    GBatch_5 = info[f'GBatch_{ds}_5']['result_dictionary']\n",
    "    GBatch_10 = info[f'GBatch_{ds}_10']['result_dictionary']\n",
    "    GBatch_15 = info[f'GBatch_{ds}_15']['result_dictionary']\n",
    "    GBatch_20 = info[f'GBatch_{ds}_20']['result_dictionary']\n",
    "\n",
    "    gbatch_edges = [GBatch_5, GBatch_10, GBatch_15, GBatch_20]\n",
    "\n",
    "FTGreedy_5 = info[f'FTGreedy_{ds}_5']['result_dictionary']\n",
    "FTGreedy_10 = info[f'FTGreedy_{ds}_10']['result_dictionary']\n",
    "FTGreedy_15 = info[f'FTGreedy_{ds}_15']['result_dictionary']\n",
    "FTGreedy_20 = info[f'FTGreedy_{ds}_20']['result_dictionary']\n",
    "\n",
    "FTGreedy_edges = [FTGreedy_5, FTGreedy_10, FTGreedy_15, FTGreedy_20]\n",
    "\n",
    "FTGreedyBatch_5 = info[f'FTGreedyBatch_{ds}_5']['result_dictionary']\n",
    "FTGreedyBatch_10 = info[f'FTGreedyBatch_{ds}_10']['result_dictionary']\n",
    "FTGreedyBatch_15 = info[f'FTGreedyBatch_{ds}_15']['result_dictionary']\n",
    "FTGreedyBatch_20 = info[f'FTGreedyBatch_{ds}_20']['result_dictionary']\n",
    "\n",
    "FTGreedyBatch_edges = [FTGreedyBatch_5, FTGreedyBatch_10, FTGreedyBatch_15, FTGreedyBatch_20]\n",
    "\n",
    "expressed_5 = info[f'Expressed Distance_{ds}_5']['result_dictionary']\n",
    "expressed_10 = info[f'Expressed Distance_{ds}_10']['result_dictionary']\n",
    "expressed_15 = info[f'Expressed Distance_{ds}_15']['result_dictionary']\n",
    "expressed_20 = info[f'Expressed Distance_{ds}_20']['result_dictionary']\n",
    "\n",
    "expressed_edges = [expressed_5, expressed_10, expressed_15, expressed_20]\n"
   ]
  },
  {
   "cell_type": "code",
   "execution_count": 7,
   "id": "german-sequence",
   "metadata": {
    "scrolled": true
   },
   "outputs": [
    {
     "name": "stdout",
     "output_type": "stream",
     "text": [
      "[[0.26743426154998734, 0.22568971702320076, 0.1864124775252749, 0.21272324999195788], [0.13726948233902828, 0.116565941609485, 0.21916379804736416, 0.2211387720959145], [0.11755633723047566, 0.0780473348134901, 0.09508080464831442, 0.13784511236565655]]\n"
     ]
    }
   ],
   "source": [
    "from statistics import median\n",
    "average_p_gbatch = 0\n",
    "average_p_ftgreedy = 0\n",
    "average_p_ftgreedybatch = 0\n",
    "average_p_expressed = 0\n",
    "\n",
    "list_of_all = []\n",
    "\n",
    "if ds=='karate' or ds=='books':\n",
    "    algos = [greedy_edges, gbatch_edges, FTGreedy_edges, FTGreedyBatch_edges, expressed_edges]\n",
    "else:\n",
    "    algos = [FTGreedy_edges, FTGreedyBatch_edges, expressed_edges]\n",
    "\n",
    "for algorithm in algos:\n",
    "    list_of_means = []\n",
    "    for edges in algorithm:\n",
    "        values = []\n",
    "        for edge in edges:\n",
    "            try:\n",
    "                values.append(probabilities_dict[(edge[0],edge[1])])\n",
    "            except:\n",
    "                values.append(probabilities_dict[(edge[1],edge[0])])\n",
    "    \n",
    "        list_of_means.append(median(values))\n",
    "    list_of_all.append(list_of_means)\n",
    "    \n",
    "print(list_of_all)"
   ]
  },
  {
   "cell_type": "code",
   "execution_count": 8,
   "id": "baking-symphony",
   "metadata": {},
   "outputs": [],
   "source": [
    "with open(f\"../pickles/{ds}/mean_probability_{save}\", 'wb') as handle:\n",
    "    pickle.dump(list_of_all, handle, protocol=pickle.HIGHEST_PROTOCOL)"
   ]
  },
  {
   "cell_type": "code",
   "execution_count": null,
   "id": "straight-jungle",
   "metadata": {},
   "outputs": [],
   "source": []
  }
 ],
 "metadata": {
  "kernelspec": {
   "display_name": "Python 3",
   "language": "python",
   "name": "python3"
  },
  "language_info": {
   "codemirror_mode": {
    "name": "ipython",
    "version": 3
   },
   "file_extension": ".py",
   "mimetype": "text/x-python",
   "name": "python",
   "nbconvert_exporter": "python",
   "pygments_lexer": "ipython3",
   "version": "3.8.5"
  }
 },
 "nbformat": 4,
 "nbformat_minor": 5
}
