{
 "cells": [
  {
   "cell_type": "code",
   "execution_count": 1,
   "metadata": {},
   "outputs": [],
   "source": [
    "import networkx as nx\n",
    "import scipy as sp\n",
    "import numpy as np\n",
    "from numpy.linalg import inv\n",
    "from numpy import linalg as LA"
   ]
  },
  {
   "cell_type": "code",
   "execution_count": 8,
   "metadata": {},
   "outputs": [],
   "source": [
    "def get_polarization_index(G):\n",
    "\n",
    "    #opinion of each node\n",
    "    #the S array\n",
    "\n",
    "    opinion_values = nx.get_node_attributes(G,'value')\n",
    "    opinion_values = np.array(list(opinion_values.values()))\n",
    "\n",
    "    #size of the graph \n",
    "    size = opinion_values.shape[0]\n",
    "    #format them as a N x 1 array for the multiplication\n",
    "    opinion_values = opinion_values.reshape(size,1)\n",
    "\n",
    "    #the laplacian matrix of the graph\n",
    "    #return scipy sparse matrix, convert it to\n",
    "    #numpy array with .toarray()\n",
    "    L = nx.laplacian_matrix(G).toarray()\n",
    "\n",
    "    #identity matrix of the same size of the laplacian\n",
    "\n",
    "    I = np.identity(size)\n",
    "\n",
    "    # Add two matrices - two nd arrays\n",
    "\n",
    "    add_results = L.__add__(I)\n",
    "\n",
    "    # compute the fundamental matrix \n",
    "    # Q = (L+I)^-1\n",
    "\n",
    "    Q = inv(add_results)\n",
    "\n",
    "    # the opinion vector of the network\n",
    "\n",
    "    Z = add_results * opinion_values\n",
    "\n",
    "    # the polarization index\n",
    "\n",
    "    polarization_index =  LA.norm(Z, 2) / size\n",
    "\n",
    "    print(\"Polarization of the graph:\",polarization_index)\n"
   ]
  },
  {
   "cell_type": "markdown",
   "metadata": {},
   "source": [
    "### original graph"
   ]
  },
  {
   "cell_type": "code",
   "execution_count": 9,
   "metadata": {
    "scrolled": true
   },
   "outputs": [
    {
     "name": "stdout",
     "output_type": "stream",
     "text": [
      "Name: \n",
      "Type: Graph\n",
      "Number of nodes: 34\n",
      "Number of edges: 78\n",
      "Average degree:   4.5882\n",
      "Polarization of the graph: 0.5628439992060117\n"
     ]
    }
   ],
   "source": [
    "karate=nx.read_gml(\"karate.gml\",label='id')\n",
    "\n",
    "#opinions vary from 0 to 1, find all zero occurences\n",
    "zero_indices = [k for (k, v) in value_dictionary.items() if v == 0]\n",
    "\n",
    "#empty dictionary\n",
    "attrs = {}\n",
    "\n",
    "#create the dictionary that will update 0 nodes to -1\n",
    "for obj in zero_indices:\n",
    "    d = {obj:{'value':-1}}\n",
    "    attrs.update(d)\n",
    "\n",
    "#se the new opinion values\n",
    "nx.set_node_attributes(karate, attrs)\n",
    "\n",
    "#get the values of the new graph in a dictionary\n",
    "value_dictionary = nx.get_node_attributes(karate,'value')\n",
    "\n",
    "print(nx.info(karate))\n",
    "\n",
    "get_polarization_index(karate)"
   ]
  },
  {
   "cell_type": "markdown",
   "metadata": {},
   "source": [
    "### connecting negative nodes with each other"
   ]
  },
  {
   "cell_type": "code",
   "execution_count": 10,
   "metadata": {},
   "outputs": [
    {
     "name": "stdout",
     "output_type": "stream",
     "text": [
      "Name: \n",
      "Type: Graph\n",
      "Number of nodes: 34\n",
      "Number of edges: 179\n",
      "Average degree:  10.5294\n",
      "Polarization of the graph: 0.6516771884964171\n"
     ]
    }
   ],
   "source": [
    "negative_graph = karate.copy()\n",
    "\n",
    "negative_indices = [k for (k, v) in value_dictionary.items() if v == -1]\n",
    "\n",
    "all_pairs = []\n",
    "pairs = []\n",
    "edges_to_add = []\n",
    "\n",
    "for node in value_dictionary:\n",
    "\n",
    "    if(value_dictionary[node] == -1):\n",
    "        \n",
    "        current_node_list_for_pairing = [node]\n",
    "        #make unique pairs from two lists for adding edges\n",
    "        pairs = [(a, b) for a in current_node_list_for_pairing for b in negative_indices if a != b] \n",
    "        \n",
    "        #add all pairs that were created\n",
    "        all_pairs.extend(pairs) \n",
    "        \n",
    "\n",
    "\n",
    "#clean duplicate edges, [a,b]==[b,a]\n",
    "\n",
    "edges_to_add = list({tuple(sorted(item)) for item in all_pairs})\n",
    "\n",
    "#adding these edges\n",
    "negative_graph.add_edges_from(edges_to_add)\n",
    "    \n",
    "print(nx.info(negative_graph))\n",
    "\n",
    "get_polarization_index(negative_graph)\n"
   ]
  },
  {
   "cell_type": "markdown",
   "metadata": {},
   "source": [
    "### connecting positive nodes with each other"
   ]
  },
  {
   "cell_type": "code",
   "execution_count": 11,
   "metadata": {},
   "outputs": [
    {
     "name": "stdout",
     "output_type": "stream",
     "text": [
      "Name: \n",
      "Type: Graph\n",
      "Number of nodes: 34\n",
      "Number of edges: 182\n",
      "Average degree:  10.7059\n",
      "Polarization of the graph: 0.6199455697613875\n"
     ]
    }
   ],
   "source": [
    "positive_graph = karate.copy()\n",
    "\n",
    "\n",
    "positive_indices = [k for (k, v) in value_dictionary.items() if v == 1]\n",
    "\n",
    "all_pairs = []\n",
    "pairs = []\n",
    "edges_to_add = []\n",
    "\n",
    "for node in value_dictionary:\n",
    "    \n",
    "    if(value_dictionary[node] == 1):\n",
    "        \n",
    "        current_node_list_for_pairing = [node]\n",
    "\n",
    "        #make unique pairs from two lists for adding edges\n",
    "        pairs = [(a, b) for a in current_node_list_for_pairing for b in positive_indices if a != b] \n",
    "        \n",
    "        #add all pairs that were created\n",
    "        all_pairs.extend(pairs) \n",
    "\n",
    "\n",
    "#clean duplicate edges, [a,b]==[b,a]\n",
    "\n",
    "edges_to_add = list({tuple(sorted(item)) for item in all_pairs})\n",
    "        \n",
    "#adding these edges\n",
    "positive_graph.add_edges_from(edges_to_add)\n",
    "    \n",
    "print(nx.info(positive_graph))\n",
    "\n",
    "get_polarization_index(positive_graph)"
   ]
  },
  {
   "cell_type": "code",
   "execution_count": null,
   "metadata": {},
   "outputs": [],
   "source": []
  }
 ],
 "metadata": {
  "kernelspec": {
   "display_name": "Python 3",
   "language": "python",
   "name": "python3"
  },
  "language_info": {
   "codemirror_mode": {
    "name": "ipython",
    "version": 3
   },
   "file_extension": ".py",
   "mimetype": "text/x-python",
   "name": "python",
   "nbconvert_exporter": "python",
   "pygments_lexer": "ipython3",
   "version": "3.6.5"
  }
 },
 "nbformat": 4,
 "nbformat_minor": 2
}
